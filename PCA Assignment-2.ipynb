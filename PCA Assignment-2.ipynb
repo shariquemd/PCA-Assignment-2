{
 "cells": [
  {
   "cell_type": "code",
   "execution_count": null,
   "id": "120fd1c8-5cd9-4d1c-8b11-7874bd9d0403",
   "metadata": {},
   "outputs": [],
   "source": [
    "\n",
    "ANSWER1:\n",
    "Projection in PCA: PCA uses projections to transform high-dimensional data into a lower-dimensional space while preserving the maximum variance. It essentially finds the \"best-fit\" line (or hyperplane) that captures the most information.\n",
    "\n",
    "ANSWER2:\n",
    "Optimization in PCA: PCA aims to maximize the variance of the projected data along the principal components. It's essentially solving an eigenvalue problem, where the eigenvectors represent the principal components and the corresponding eigenvalues indicate the amount of variance along those components.\n",
    "\n",
    "ANSWER3:\n",
    "Covariance Matrices and PCA: PCA relies on the covariance matrix of the original data. The eigenvectors of this matrix represent the principal components, and the eigenvalues indicate their importance. High covariance implies a strong relationship between variables, which PCA utilizes.\n",
    "\n",
    "ANSWER4:\n",
    "Impact of Principal Components: The choice of the number of principal components is crucial. Including too few may result in loss of information, while including too many may lead to overfitting. It's often a trade-off between preserving enough variance and reducing dimensionality.\n",
    "\n",
    "ANSWER5:\n",
    "PCA for Feature Selection: In PCA, features with low variance are considered less important. By selecting a subset of principal components, you effectively perform feature selection, focusing on the dimensions that contribute most to the data's variability.\n",
    "\n",
    "ANSWER6:\n",
    "Applications of PCA: PCA is a Swiss Army knife! It's used in image compression, facial recognition, genetics, finance, and more. Anywhere you want to reduce dimensionality while retaining as much information as possible, PCA is your go-to.\n",
    "\n",
    "ANSWER7:\n",
    "Spread and Variance in PCA: Spread refers to the extent of the data along a particular dimension. Variance is a measure of how much the data deviates from its mean. In PCA, principal components capture the directions of maximum spread, and their associated eigenvalues quantify the variance along those directions.\n",
    "\n",
    "ANSWER8:\n",
    "PCA and Identifying Principal Components: PCA identifies principal components by looking for the directions (vectors) along which the spread (variance) of the data is maximized. The first principal component captures the most significant amount of variance, and subsequent components capture decreasing amounts.\n",
    "\n",
    "ANSWER9:\n",
    "Handling High Variance: PCA is robust in handling dimensions with high variance. It naturally emphasizes dimensions with high variance while downplaying those with low variance, helping to highlight the most important features in the data."
   ]
  }
 ],
 "metadata": {
  "kernelspec": {
   "display_name": "Python 3 (ipykernel)",
   "language": "python",
   "name": "python3"
  },
  "language_info": {
   "codemirror_mode": {
    "name": "ipython",
    "version": 3
   },
   "file_extension": ".py",
   "mimetype": "text/x-python",
   "name": "python",
   "nbconvert_exporter": "python",
   "pygments_lexer": "ipython3",
   "version": "3.10.8"
  }
 },
 "nbformat": 4,
 "nbformat_minor": 5
}
